{
  "nbformat": 4,
  "nbformat_minor": 0,
  "metadata": {
    "colab": {
      "name": "TFG - Orlando - CMAPSS.ipynb",
      "provenance": [],
      "collapsed_sections": [
        "YeOzfzmTA6xu",
        "f0JN-3qneBRa"
      ],
      "include_colab_link": true
    },
    "kernelspec": {
      "display_name": "Python 3",
      "name": "python3"
    },
    "language_info": {
      "name": "python"
    }
  },
  "cells": [
    {
      "cell_type": "markdown",
      "metadata": {
        "id": "view-in-github",
        "colab_type": "text"
      },
      "source": [
        "<a href=\"https://colab.research.google.com/github/orlandobeco/TFG_ML_CMAPSS/blob/main/TFG_Orlando_CMAPSS.ipynb\" target=\"_parent\"><img src=\"https://colab.research.google.com/assets/colab-badge.svg\" alt=\"Open In Colab\"/></a>"
      ]
    },
    {
      "cell_type": "markdown",
      "metadata": {
        "id": "uu5WTvW-cGnN"
      },
      "source": [
        "# TFG Completo"
      ]
    },
    {
      "cell_type": "code",
      "metadata": {
        "id": "0bRnKAEHV2Qp",
        "colab": {
          "base_uri": "https://localhost:8080/",
          "height": 17
        },
        "outputId": "98d26384-e476-488a-87f6-03a935ef0e02"
      },
      "source": [
        "# LIBERAR DOWNLOAD NO \n",
        "import time\n",
        "from google.colab import files\n",
        "files.download('/content/sample_data/README.md')\n",
        "files.download('/content/sample_data/anscombe.json')"
      ],
      "execution_count": null,
      "outputs": [
        {
          "output_type": "display_data",
          "data": {
            "application/javascript": [
              "\n",
              "    async function download(id, filename, size) {\n",
              "      if (!google.colab.kernel.accessAllowed) {\n",
              "        return;\n",
              "      }\n",
              "      const div = document.createElement('div');\n",
              "      const label = document.createElement('label');\n",
              "      label.textContent = `Downloading \"${filename}\": `;\n",
              "      div.appendChild(label);\n",
              "      const progress = document.createElement('progress');\n",
              "      progress.max = size;\n",
              "      div.appendChild(progress);\n",
              "      document.body.appendChild(div);\n",
              "\n",
              "      const buffers = [];\n",
              "      let downloaded = 0;\n",
              "\n",
              "      const channel = await google.colab.kernel.comms.open(id);\n",
              "      // Send a message to notify the kernel that we're ready.\n",
              "      channel.send({})\n",
              "\n",
              "      for await (const message of channel.messages) {\n",
              "        // Send a message to notify the kernel that we're ready.\n",
              "        channel.send({})\n",
              "        if (message.buffers) {\n",
              "          for (const buffer of message.buffers) {\n",
              "            buffers.push(buffer);\n",
              "            downloaded += buffer.byteLength;\n",
              "            progress.value = downloaded;\n",
              "          }\n",
              "        }\n",
              "      }\n",
              "      const blob = new Blob(buffers, {type: 'application/binary'});\n",
              "      const a = document.createElement('a');\n",
              "      a.href = window.URL.createObjectURL(blob);\n",
              "      a.download = filename;\n",
              "      div.appendChild(a);\n",
              "      a.click();\n",
              "      div.remove();\n",
              "    }\n",
              "  "
            ],
            "text/plain": [
              "<IPython.core.display.Javascript object>"
            ]
          },
          "metadata": {}
        },
        {
          "output_type": "display_data",
          "data": {
            "application/javascript": [
              "download(\"download_a1e165cd-68b8-41a9-a589-af5379281580\", \"README.md\", 930)"
            ],
            "text/plain": [
              "<IPython.core.display.Javascript object>"
            ]
          },
          "metadata": {}
        },
        {
          "output_type": "display_data",
          "data": {
            "application/javascript": [
              "\n",
              "    async function download(id, filename, size) {\n",
              "      if (!google.colab.kernel.accessAllowed) {\n",
              "        return;\n",
              "      }\n",
              "      const div = document.createElement('div');\n",
              "      const label = document.createElement('label');\n",
              "      label.textContent = `Downloading \"${filename}\": `;\n",
              "      div.appendChild(label);\n",
              "      const progress = document.createElement('progress');\n",
              "      progress.max = size;\n",
              "      div.appendChild(progress);\n",
              "      document.body.appendChild(div);\n",
              "\n",
              "      const buffers = [];\n",
              "      let downloaded = 0;\n",
              "\n",
              "      const channel = await google.colab.kernel.comms.open(id);\n",
              "      // Send a message to notify the kernel that we're ready.\n",
              "      channel.send({})\n",
              "\n",
              "      for await (const message of channel.messages) {\n",
              "        // Send a message to notify the kernel that we're ready.\n",
              "        channel.send({})\n",
              "        if (message.buffers) {\n",
              "          for (const buffer of message.buffers) {\n",
              "            buffers.push(buffer);\n",
              "            downloaded += buffer.byteLength;\n",
              "            progress.value = downloaded;\n",
              "          }\n",
              "        }\n",
              "      }\n",
              "      const blob = new Blob(buffers, {type: 'application/binary'});\n",
              "      const a = document.createElement('a');\n",
              "      a.href = window.URL.createObjectURL(blob);\n",
              "      a.download = filename;\n",
              "      div.appendChild(a);\n",
              "      a.click();\n",
              "      div.remove();\n",
              "    }\n",
              "  "
            ],
            "text/plain": [
              "<IPython.core.display.Javascript object>"
            ]
          },
          "metadata": {}
        },
        {
          "output_type": "display_data",
          "data": {
            "application/javascript": [
              "download(\"download_7babe595-4d05-49d3-9796-8d6ceb113fe4\", \"anscombe.json\", 1697)"
            ],
            "text/plain": [
              "<IPython.core.display.Javascript object>"
            ]
          },
          "metadata": {}
        }
      ]
    },
    {
      "cell_type": "markdown",
      "metadata": {
        "id": "AG9w9uYdzknh"
      },
      "source": [
        "## Baixando Base"
      ]
    },
    {
      "cell_type": "code",
      "metadata": {
        "id": "-JtnHmo67PlU",
        "colab": {
          "base_uri": "https://localhost:8080/"
        },
        "outputId": "566a002d-ddf2-4a08-d2b9-965ff84c7c70"
      },
      "source": [
        "import gdown\n",
        "#https://drive.google.com/file/d/1M5Bo2sdK99OqI3Z7BhSVS_gB3auMF1X6/view?usp=sharing\n",
        "url = 'https://drive.google.com/uc?id=1M5Bo2sdK99OqI3Z7BhSVS_gB3auMF1X6'\n",
        "output = 'N-CMAPSS_DS02-006.h5'\n",
        "gdown.download(url, output, quiet=False)\n",
        "filename = 'N-CMAPSS_DS02-006.h5'"
      ],
      "execution_count": null,
      "outputs": [
        {
          "output_type": "stream",
          "name": "stderr",
          "text": [
            "Downloading...\n",
            "From: https://drive.google.com/uc?id=1M5Bo2sdK99OqI3Z7BhSVS_gB3auMF1X6\n",
            "To: /content/N-CMAPSS_DS02-006.h5\n",
            "100%|██████████| 2.45G/2.45G [00:28<00:00, 85.8MB/s]\n"
          ]
        }
      ]
    },
    {
      "cell_type": "markdown",
      "metadata": {
        "id": "k0adhPkM7ZcN"
      },
      "source": [
        "## Leitura do Dataset"
      ]
    },
    {
      "cell_type": "code",
      "metadata": {
        "id": "xJ1wAzMH7YbM",
        "colab": {
          "base_uri": "https://localhost:8080/"
        },
        "outputId": "57a16033-a100-45f1-d0ae-7ecfac42cc7c"
      },
      "source": [
        "import h5py\n",
        "import numpy as np\n",
        "import pandas as pd\n",
        "\n",
        "# Load data\n",
        "with h5py.File(filename, 'r') as hdf:\n",
        "  W = np.concatenate((\n",
        "      np.array(hdf.get('W_dev')), \n",
        "      np.array(hdf.get('W_test')),\n",
        "      ), axis=0)\n",
        "  \n",
        "  X_s = np.concatenate((\n",
        "      np.array(hdf.get('X_s_dev')), \n",
        "      np.array(hdf.get('X_s_test')),\n",
        "      ), axis=0)\n",
        "  \n",
        "  X_v = np.concatenate((\n",
        "      np.array(hdf.get('X_v_dev')), \n",
        "      np.array(hdf.get('X_v_test')),\n",
        "      ), axis=0)\n",
        "  \n",
        "  Y = np.concatenate((\n",
        "      np.array(hdf.get('Y_dev')), \n",
        "      np.array(hdf.get('Y_test')),\n",
        "      ), axis=0)\n",
        "\n",
        "  #Nome das colunas\n",
        "  W_var = np.array(hdf.get('W_var'))\n",
        "  X_s_var = np.array(hdf.get('X_s_var'))  \n",
        "  X_v_var = np.array(hdf.get('X_v_var')) \n",
        "  #corrigindo nomes\n",
        "  W_var = list(np.array(W_var, dtype='U20'))\n",
        "  X_s_var = list(np.array(X_s_var, dtype='U20'))  \n",
        "  X_v_var = list(np.array(X_v_var, dtype='U20'))\n",
        "\n",
        "#agrupando dados\n",
        "data = np.concatenate((W, X_s, X_v, Y), axis=1)\n",
        "columns = np.concatenate((W_var, X_s_var, X_v_var, ['RUL']), axis=0)\n",
        "\n",
        "#eliminando da memória vetores não mais usados\n",
        "del W, X_s, X_v, Y\n",
        "\n",
        "#criando dataset final\n",
        "ds = pd.DataFrame(data=data, columns=columns)\n",
        "\n",
        "#eliminando da memória copia\n",
        "del data, columns\n",
        "\n",
        "#formato do dataset\n",
        "ds.shape"
      ],
      "execution_count": null,
      "outputs": [
        {
          "output_type": "execute_result",
          "data": {
            "text/plain": [
              "(6517190, 33)"
            ]
          },
          "metadata": {},
          "execution_count": 3
        }
      ]
    },
    {
      "cell_type": "code",
      "metadata": {
        "id": "L1YRNKSfXkyt",
        "colab": {
          "base_uri": "https://localhost:8080/"
        },
        "outputId": "089acc42-0f24-4384-dc41-5b2a94746673"
      },
      "source": [
        "ds.head()"
      ],
      "execution_count": null,
      "outputs": [
        {
          "output_type": "execute_result",
          "data": {
            "text/html": [
              "<div>\n",
              "<style scoped>\n",
              "    .dataframe tbody tr th:only-of-type {\n",
              "        vertical-align: middle;\n",
              "    }\n",
              "\n",
              "    .dataframe tbody tr th {\n",
              "        vertical-align: top;\n",
              "    }\n",
              "\n",
              "    .dataframe thead th {\n",
              "        text-align: right;\n",
              "    }\n",
              "</style>\n",
              "<table border=\"1\" class=\"dataframe\">\n",
              "  <thead>\n",
              "    <tr style=\"text-align: right;\">\n",
              "      <th></th>\n",
              "      <th>alt</th>\n",
              "      <th>Mach</th>\n",
              "      <th>TRA</th>\n",
              "      <th>T2</th>\n",
              "      <th>T24</th>\n",
              "      <th>T30</th>\n",
              "      <th>T48</th>\n",
              "      <th>T50</th>\n",
              "      <th>P15</th>\n",
              "      <th>P2</th>\n",
              "      <th>P21</th>\n",
              "      <th>P24</th>\n",
              "      <th>Ps30</th>\n",
              "      <th>P40</th>\n",
              "      <th>P50</th>\n",
              "      <th>Nf</th>\n",
              "      <th>Nc</th>\n",
              "      <th>Wf</th>\n",
              "      <th>T40</th>\n",
              "      <th>P30</th>\n",
              "      <th>P45</th>\n",
              "      <th>W21</th>\n",
              "      <th>W22</th>\n",
              "      <th>W25</th>\n",
              "      <th>W31</th>\n",
              "      <th>W32</th>\n",
              "      <th>W48</th>\n",
              "      <th>W50</th>\n",
              "      <th>SmFan</th>\n",
              "      <th>SmLPC</th>\n",
              "      <th>SmHPC</th>\n",
              "      <th>phi</th>\n",
              "      <th>RUL</th>\n",
              "    </tr>\n",
              "  </thead>\n",
              "  <tbody>\n",
              "    <tr>\n",
              "      <th>0</th>\n",
              "      <td>10005.0</td>\n",
              "      <td>0.448497</td>\n",
              "      <td>76.903748</td>\n",
              "      <td>502.420918</td>\n",
              "      <td>600.148034</td>\n",
              "      <td>1438.498187</td>\n",
              "      <td>1818.027714</td>\n",
              "      <td>1228.129848</td>\n",
              "      <td>15.806267</td>\n",
              "      <td>11.577097</td>\n",
              "      <td>16.046971</td>\n",
              "      <td>20.126624</td>\n",
              "      <td>331.293679</td>\n",
              "      <td>336.631827</td>\n",
              "      <td>12.629361</td>\n",
              "      <td>2160.926416</td>\n",
              "      <td>8591.373490</td>\n",
              "      <td>3.855337</td>\n",
              "      <td>2797.727106</td>\n",
              "      <td>352.494060</td>\n",
              "      <td>62.768751</td>\n",
              "      <td>2420.557738</td>\n",
              "      <td>228.486927</td>\n",
              "      <td>228.487065</td>\n",
              "      <td>26.498785</td>\n",
              "      <td>15.899271</td>\n",
              "      <td>215.844851</td>\n",
              "      <td>228.411666</td>\n",
              "      <td>16.648833</td>\n",
              "      <td>9.898130</td>\n",
              "      <td>25.376144</td>\n",
              "      <td>41.893990</td>\n",
              "      <td>74.0</td>\n",
              "    </tr>\n",
              "    <tr>\n",
              "      <th>1</th>\n",
              "      <td>10013.0</td>\n",
              "      <td>0.447741</td>\n",
              "      <td>76.903748</td>\n",
              "      <td>502.326114</td>\n",
              "      <td>600.055894</td>\n",
              "      <td>1438.350208</td>\n",
              "      <td>1817.682618</td>\n",
              "      <td>1227.879113</td>\n",
              "      <td>15.795477</td>\n",
              "      <td>11.568235</td>\n",
              "      <td>16.036017</td>\n",
              "      <td>20.113218</td>\n",
              "      <td>331.109867</td>\n",
              "      <td>336.446748</td>\n",
              "      <td>12.623033</td>\n",
              "      <td>2160.909333</td>\n",
              "      <td>8590.972866</td>\n",
              "      <td>3.852319</td>\n",
              "      <td>2797.209328</td>\n",
              "      <td>352.300260</td>\n",
              "      <td>62.734717</td>\n",
              "      <td>2418.935113</td>\n",
              "      <td>228.382424</td>\n",
              "      <td>228.383505</td>\n",
              "      <td>26.486552</td>\n",
              "      <td>15.891931</td>\n",
              "      <td>215.745634</td>\n",
              "      <td>228.307014</td>\n",
              "      <td>16.639222</td>\n",
              "      <td>9.904927</td>\n",
              "      <td>25.380549</td>\n",
              "      <td>41.884434</td>\n",
              "      <td>74.0</td>\n",
              "    </tr>\n",
              "    <tr>\n",
              "      <th>2</th>\n",
              "      <td>10017.0</td>\n",
              "      <td>0.448938</td>\n",
              "      <td>77.079529</td>\n",
              "      <td>502.416067</td>\n",
              "      <td>600.210756</td>\n",
              "      <td>1439.109101</td>\n",
              "      <td>1820.020627</td>\n",
              "      <td>1229.422522</td>\n",
              "      <td>15.807747</td>\n",
              "      <td>11.574866</td>\n",
              "      <td>16.048474</td>\n",
              "      <td>20.130956</td>\n",
              "      <td>331.753181</td>\n",
              "      <td>337.082502</td>\n",
              "      <td>12.637951</td>\n",
              "      <td>2161.819062</td>\n",
              "      <td>8593.031745</td>\n",
              "      <td>3.866201</td>\n",
              "      <td>2800.736255</td>\n",
              "      <td>352.965971</td>\n",
              "      <td>62.851755</td>\n",
              "      <td>2421.245669</td>\n",
              "      <td>228.651138</td>\n",
              "      <td>228.661083</td>\n",
              "      <td>26.519340</td>\n",
              "      <td>15.911604</td>\n",
              "      <td>216.019054</td>\n",
              "      <td>228.592279</td>\n",
              "      <td>16.649823</td>\n",
              "      <td>9.923503</td>\n",
              "      <td>25.318848</td>\n",
              "      <td>41.953848</td>\n",
              "      <td>74.0</td>\n",
              "    </tr>\n",
              "    <tr>\n",
              "      <th>3</th>\n",
              "      <td>10024.0</td>\n",
              "      <td>0.449883</td>\n",
              "      <td>77.079529</td>\n",
              "      <td>502.469893</td>\n",
              "      <td>600.369717</td>\n",
              "      <td>1439.240230</td>\n",
              "      <td>1819.188327</td>\n",
              "      <td>1228.538726</td>\n",
              "      <td>15.816360</td>\n",
              "      <td>11.578198</td>\n",
              "      <td>16.057218</td>\n",
              "      <td>20.146716</td>\n",
              "      <td>331.819136</td>\n",
              "      <td>337.162828</td>\n",
              "      <td>12.631509</td>\n",
              "      <td>2162.768666</td>\n",
              "      <td>8593.781545</td>\n",
              "      <td>3.863328</td>\n",
              "      <td>2799.352383</td>\n",
              "      <td>353.050081</td>\n",
              "      <td>62.873081</td>\n",
              "      <td>2422.941615</td>\n",
              "      <td>228.786949</td>\n",
              "      <td>228.768625</td>\n",
              "      <td>26.532044</td>\n",
              "      <td>15.919226</td>\n",
              "      <td>216.121238</td>\n",
              "      <td>228.702994</td>\n",
              "      <td>16.653812</td>\n",
              "      <td>9.905518</td>\n",
              "      <td>25.361981</td>\n",
              "      <td>41.914342</td>\n",
              "      <td>74.0</td>\n",
              "    </tr>\n",
              "    <tr>\n",
              "      <th>4</th>\n",
              "      <td>10031.0</td>\n",
              "      <td>0.449379</td>\n",
              "      <td>77.079529</td>\n",
              "      <td>502.401271</td>\n",
              "      <td>600.298227</td>\n",
              "      <td>1439.064004</td>\n",
              "      <td>1818.963540</td>\n",
              "      <td>1228.389046</td>\n",
              "      <td>15.807513</td>\n",
              "      <td>11.571593</td>\n",
              "      <td>16.048236</td>\n",
              "      <td>20.135888</td>\n",
              "      <td>331.626003</td>\n",
              "      <td>336.966936</td>\n",
              "      <td>12.624872</td>\n",
              "      <td>2162.619544</td>\n",
              "      <td>8593.220200</td>\n",
              "      <td>3.860818</td>\n",
              "      <td>2799.034785</td>\n",
              "      <td>352.844959</td>\n",
              "      <td>62.836600</td>\n",
              "      <td>2421.608933</td>\n",
              "      <td>228.651685</td>\n",
              "      <td>228.653631</td>\n",
              "      <td>26.518460</td>\n",
              "      <td>15.911076</td>\n",
              "      <td>216.008509</td>\n",
              "      <td>228.584788</td>\n",
              "      <td>16.649031</td>\n",
              "      <td>9.897465</td>\n",
              "      <td>25.363994</td>\n",
              "      <td>41.911503</td>\n",
              "      <td>74.0</td>\n",
              "    </tr>\n",
              "  </tbody>\n",
              "</table>\n",
              "</div>"
            ],
            "text/plain": [
              "       alt      Mach        TRA  ...      SmHPC        phi   RUL\n",
              "0  10005.0  0.448497  76.903748  ...  25.376144  41.893990  74.0\n",
              "1  10013.0  0.447741  76.903748  ...  25.380549  41.884434  74.0\n",
              "2  10017.0  0.448938  77.079529  ...  25.318848  41.953848  74.0\n",
              "3  10024.0  0.449883  77.079529  ...  25.361981  41.914342  74.0\n",
              "4  10031.0  0.449379  77.079529  ...  25.363994  41.911503  74.0\n",
              "\n",
              "[5 rows x 33 columns]"
            ]
          },
          "metadata": {},
          "execution_count": 4
        }
      ]
    },
    {
      "cell_type": "markdown",
      "metadata": {
        "id": "geT7R5FJ9d9Q"
      },
      "source": [
        "## Treinamento"
      ]
    },
    {
      "cell_type": "markdown",
      "metadata": {
        "id": "inTzWSJO_SGQ"
      },
      "source": [
        "## Metodologias de Aprendizado Regressivo"
      ]
    },
    {
      "cell_type": "code",
      "metadata": {
        "id": "WAYxfhsQAdz3"
      },
      "source": [
        "regressores=[]\n",
        "reg_nomes =[]"
      ],
      "execution_count": null,
      "outputs": []
    },
    {
      "cell_type": "markdown",
      "metadata": {
        "id": "NWDdAKAPAVQC"
      },
      "source": [
        "### Lineares"
      ]
    },
    {
      "cell_type": "code",
      "metadata": {
        "id": "YGKKetBM_V9n"
      },
      "source": [
        "from sklearn import linear_model\n",
        "\n",
        "regressores.append(linear_model.LinearRegression())\n",
        "reg_nomes.append('LinearRegression')\n",
        "\n",
        "regressores.append(linear_model.Ridge(alpha=1.0))\n",
        "reg_nomes.append('Ridge')\n",
        "\n",
        "regressores.append(linear_model.Lasso(alpha=0.1))\n",
        "reg_nomes.append('Lasso')\n",
        "\n",
        "regressores.append(linear_model.ElasticNet(random_state=42))\n",
        "reg_nomes.append('ElasticNet')\n",
        "\n",
        "#regressores.append(linear_model.LogisticRegression(random_state=42))\n",
        "#reg_nomes.append('LogisticRegression')"
      ],
      "execution_count": null,
      "outputs": []
    },
    {
      "cell_type": "markdown",
      "metadata": {
        "id": "YeOzfzmTA6xu"
      },
      "source": [
        "### Não Lineares"
      ]
    },
    {
      "cell_type": "code",
      "metadata": {
        "id": "pfyj5VJGA9N0"
      },
      "source": [
        "from sklearn.kernel_ridge import KernelRidge\n",
        "from sklearn.svm import SVR\n",
        "from sklearn.tree import DecisionTreeRegressor\n",
        "from sklearn.neural_network import MLPRegressor\n",
        "\n",
        "#regressores.append(KernelRidge(alpha=1.0,kernel='rbf'))\n",
        "#reg_nomes.append('KernelRidge')\n",
        "\n",
        "#regressores.append(SVR(kernel='rbf'))\n",
        "#reg_nomes.append('SVM-R')\n",
        "\n",
        "#regressores.append(DecisionTreeRegressor(random_state=42,max_depth=10))\n",
        "#reg_nomes.append('DecisionTreeRegressor')\n",
        "\n",
        "regressores.append(MLPRegressor(\n",
        "    random_state=42,\n",
        "    hidden_layer_sizes=(100,),\n",
        "    activation='relu',\n",
        "    solver='adam',\n",
        "    ))\n",
        "reg_nomes.append('MLPRegressor')"
      ],
      "execution_count": null,
      "outputs": []
    },
    {
      "cell_type": "markdown",
      "metadata": {
        "id": "SPApYZW9DBXK"
      },
      "source": [
        "## Métrica"
      ]
    },
    {
      "cell_type": "code",
      "metadata": {
        "id": "uj4scpaiDC_6"
      },
      "source": [
        "from sklearn.metrics import max_error\n",
        "from sklearn.metrics import mean_absolute_error\n",
        "from sklearn.metrics import mean_squared_error\n",
        "from sklearn.metrics import r2_score"
      ],
      "execution_count": null,
      "outputs": []
    },
    {
      "cell_type": "markdown",
      "metadata": {
        "id": "G29Yv9Lt_YMV"
      },
      "source": [
        "## Pipeline"
      ]
    },
    {
      "cell_type": "markdown",
      "metadata": {
        "id": "bZDzRiJUePca"
      },
      "source": [
        "### Completa"
      ]
    },
    {
      "cell_type": "code",
      "metadata": {
        "id": "pWN4Gy8ceKkj",
        "colab": {
          "base_uri": "https://localhost:8080/"
        },
        "outputId": "f8226423-de8a-4439-a018-a77f913db419"
      },
      "source": [
        "X = ds[ds.columns[:-1]].values\n",
        "y = ds[ds.columns[-1]].values\n",
        "print(X.shape,y.shape)"
      ],
      "execution_count": null,
      "outputs": [
        {
          "output_type": "stream",
          "name": "stdout",
          "text": [
            "(6517190, 32) (6517190,)\n"
          ]
        }
      ]
    },
    {
      "cell_type": "markdown",
      "metadata": {
        "id": "eHglDJPLeLo1"
      },
      "source": [
        "### Base reduzida para Debug"
      ]
    },
    {
      "cell_type": "code",
      "metadata": {
        "id": "2eZoszUiDvO0"
      },
      "source": [
        "#X = ds[ds.columns[:-1]].sample(n=1000000,random_state=42).values\n",
        "#y = ds[ds.columns[-1]].sample(n=1000000,random_state=42).values\n",
        "#print(X.shape,y.shape)\n",
        "\n",
        "#X = ds[ds.columns[:-1]].sample(n=700000,random_state=42).values\n",
        "#y = ds[ds.columns[-1]].sample(n=700000,random_state=42).values\n",
        "#print(X.shape,y.shape)"
      ],
      "execution_count": null,
      "outputs": []
    },
    {
      "cell_type": "markdown",
      "metadata": {
        "id": "f0JN-3qneBRa"
      },
      "source": [
        "### Treinamento"
      ]
    },
    {
      "cell_type": "code",
      "metadata": {
        "id": "noU2N7WCW5a5"
      },
      "source": [
        "del ds"
      ],
      "execution_count": null,
      "outputs": []
    },
    {
      "cell_type": "code",
      "metadata": {
        "id": "MJ0C3vds_bKs",
        "colab": {
          "base_uri": "https://localhost:8080/"
        },
        "outputId": "b58ef583-37f0-41a1-fbb9-66c83aa949dd"
      },
      "source": [
        "import time\n",
        "from sklearn.model_selection import KFold\n",
        "\n",
        "#https://scikit-learn.org/stable/modules/generated/sklearn.model_selection.KFold.html\n",
        "num_partes = 5\n",
        "kf = KFold(n_splits=num_partes, random_state=42, shuffle=True) # 10-Fold\n",
        "\n",
        "resultados =[]\n",
        "res_nomes = ['Técnica','Tempo(s)','ME','MAE','MSE','R2']\n",
        "\n",
        "for nome, rgr in zip(reg_nomes, regressores):\n",
        "  print('==',nome,'==')\n",
        "  for train_index, test_index in kf.split(X):\n",
        "    etapa = []\n",
        "    etapa.append(nome)\n",
        "\n",
        "    # dataset de treinamento(X_train,y_train)\n",
        "    # dataset de testes(X_test,y_test)\n",
        "    X_train, X_test = X[train_index], X[test_index]\n",
        "    y_train, y_test = y[train_index], y[test_index]\n",
        "\n",
        "    #treinamento\n",
        "    t = time.process_time()  \n",
        "    rgr.fit(X_train,y_train)\n",
        "    etapa.append(time.process_time()-t)\n",
        "    \n",
        "    #validacao\n",
        "    y_prev = rgr.predict(X_test)\n",
        "\n",
        "    #métricas\n",
        "    etapa.append(max_error(y_test,y_prev))\n",
        "    etapa.append(mean_absolute_error(y_test,y_prev))\n",
        "    etapa.append(mean_squared_error(y_test,y_prev))\n",
        "    etapa.append(r2_score(y_test,y_prev))\n",
        "\n",
        "    print(etapa)\n",
        "\n",
        "    resultados.append(etapa)\n",
        "    #armazenando resultados\n",
        "    res1 = pd.DataFrame(data = resultados, columns =res_nomes )\n",
        "    # salva\n",
        "    res1.to_excel('sem_pca.xlsx',index=True)\n",
        "\n",
        "#armazenando resultados\n",
        "res1 = pd.DataFrame(data = resultados, columns =res_nomes )\n",
        "# salva\n",
        "res1.to_excel('sem_pca.xlsx',index=True)\n",
        "\n",
        "from google.colab import files\n",
        "files.download('sem_pca.xlsx')"
      ],
      "execution_count": null,
      "outputs": [
        {
          "output_type": "stream",
          "name": "stdout",
          "text": [
            "== LinearRegression ==\n",
            "['LinearRegression', 18.11080481, 292.43358102216735, 9.397005614938584, 129.20680761262514, 0.7301230518092502]\n",
            "['LinearRegression', 16.571106953000005, 319.4746339437552, 9.400625069114318, 129.52027426713474, 0.7295840589476049]\n",
            "['LinearRegression', 15.510009526999994, 214.1959545519203, 9.396524056153007, 129.172775960075, 0.7301896734469928]\n",
            "['LinearRegression', 16.067478955, 280.936596293468, 9.400310478763423, 129.30934006685575, 0.7300406663512435]\n",
            "['LinearRegression', 15.907182399999996, 281.93736284866463, 9.409527242106789, 129.6303718555391, 0.729969850722137]\n",
            "== Ridge ==\n",
            "['Ridge', 2.764552883999997, 280.0897209293198, 9.401438190192264, 129.2436244973746, 0.7300461516158188]\n",
            "['Ridge', 2.73146483699999, 309.67314837691447, 9.405358458240407, 129.55490413534812, 0.7295117577696277]\n",
            "['Ridge', 2.678065601, 196.98502408147124, 9.401147603053852, 129.2123177398974, 0.7301070803429346]\n",
            "['Ridge', 2.7177785929999914, 268.70336558624876, 9.405114562637111, 129.3389274169107, 0.7299788967891907]\n",
            "['Ridge', 2.7024599599999988, 269.5756762969377, 9.414181357437638, 129.6673848975491, 0.7298927496761698]\n",
            "== Lasso ==\n"
          ]
        },
        {
          "output_type": "stream",
          "name": "stderr",
          "text": [
            "/usr/local/lib/python3.7/dist-packages/sklearn/linear_model/_coordinate_descent.py:648: ConvergenceWarning: Objective did not converge. You might want to increase the number of iterations, check the scale of the features or consider increasing regularisation. Duality gap: 3.915e+08, tolerance: 2.498e+05\n",
            "  coef_, l1_reg, l2_reg, X, y, max_iter, tol, rng, random, positive\n"
          ]
        },
        {
          "output_type": "stream",
          "name": "stdout",
          "text": [
            "['Lasso', 1009.1832806799999, 618.7355559715979, 9.978787761234788, 146.99084665477025, 0.6929771593297405]\n"
          ]
        },
        {
          "output_type": "stream",
          "name": "stderr",
          "text": [
            "/usr/local/lib/python3.7/dist-packages/sklearn/linear_model/_coordinate_descent.py:648: ConvergenceWarning: Objective did not converge. You might want to increase the number of iterations, check the scale of the features or consider increasing regularisation. Duality gap: 3.910e+08, tolerance: 2.498e+05\n",
            "  coef_, l1_reg, l2_reg, X, y, max_iter, tol, rng, random, positive\n"
          ]
        },
        {
          "output_type": "stream",
          "name": "stdout",
          "text": [
            "['Lasso', 1011.4440568949999, 617.7422372347833, 9.985398113453105, 147.827040697944, 0.6913626955353918]\n"
          ]
        },
        {
          "output_type": "stream",
          "name": "stderr",
          "text": [
            "/usr/local/lib/python3.7/dist-packages/sklearn/linear_model/_coordinate_descent.py:648: ConvergenceWarning: Objective did not converge. You might want to increase the number of iterations, check the scale of the features or consider increasing regularisation. Duality gap: 3.917e+08, tolerance: 2.498e+05\n",
            "  coef_, l1_reg, l2_reg, X, y, max_iter, tol, rng, random, positive\n"
          ]
        },
        {
          "output_type": "stream",
          "name": "stdout",
          "text": [
            "['Lasso', 1008.7998151920001, 344.4796361313431, 9.98189746252075, 146.63107058204002, 0.6937235671951082]\n"
          ]
        },
        {
          "output_type": "stream",
          "name": "stderr",
          "text": [
            "/usr/local/lib/python3.7/dist-packages/sklearn/linear_model/_coordinate_descent.py:648: ConvergenceWarning: Objective did not converge. You might want to increase the number of iterations, check the scale of the features or consider increasing regularisation. Duality gap: 3.913e+08, tolerance: 2.498e+05\n",
            "  coef_, l1_reg, l2_reg, X, y, max_iter, tol, rng, random, positive\n"
          ]
        },
        {
          "output_type": "stream",
          "name": "stdout",
          "text": [
            "['Lasso', 1012.016203876, 616.6166039696154, 9.98180805228968, 147.2043810096467, 0.6926811583216197]\n"
          ]
        },
        {
          "output_type": "stream",
          "name": "stderr",
          "text": [
            "/usr/local/lib/python3.7/dist-packages/sklearn/linear_model/_coordinate_descent.py:648: ConvergenceWarning: Objective did not converge. You might want to increase the number of iterations, check the scale of the features or consider increasing regularisation. Duality gap: 3.913e+08, tolerance: 2.497e+05\n",
            "  coef_, l1_reg, l2_reg, X, y, max_iter, tol, rng, random, positive\n"
          ]
        },
        {
          "output_type": "stream",
          "name": "stdout",
          "text": [
            "['Lasso', 1005.4096921600003, 585.9170103534609, 9.992512345977268, 147.37683266040466, 0.693002592264899]\n",
            "== ElasticNet ==\n"
          ]
        },
        {
          "output_type": "stream",
          "name": "stderr",
          "text": [
            "/usr/local/lib/python3.7/dist-packages/sklearn/linear_model/_coordinate_descent.py:648: ConvergenceWarning: Objective did not converge. You might want to increase the number of iterations, check the scale of the features or consider increasing regularisation. Duality gap: 3.876e+08, tolerance: 2.498e+05\n",
            "  coef_, l1_reg, l2_reg, X, y, max_iter, tol, rng, random, positive\n"
          ]
        },
        {
          "output_type": "stream",
          "name": "stdout",
          "text": [
            "['ElasticNet', 866.2143589850002, 551.7062548451945, 10.094522581008508, 150.7673304311993, 0.6850891390674477]\n"
          ]
        },
        {
          "output_type": "stream",
          "name": "stderr",
          "text": [
            "/usr/local/lib/python3.7/dist-packages/sklearn/linear_model/_coordinate_descent.py:648: ConvergenceWarning: Objective did not converge. You might want to increase the number of iterations, check the scale of the features or consider increasing regularisation. Duality gap: 3.874e+08, tolerance: 2.498e+05\n",
            "  coef_, l1_reg, l2_reg, X, y, max_iter, tol, rng, random, positive\n"
          ]
        },
        {
          "output_type": "stream",
          "name": "stdout",
          "text": [
            "['ElasticNet', 871.632582186, 548.4641711367572, 10.103357931552921, 151.46396032447234, 0.6837694361101441]\n"
          ]
        },
        {
          "output_type": "stream",
          "name": "stderr",
          "text": [
            "/usr/local/lib/python3.7/dist-packages/sklearn/linear_model/_coordinate_descent.py:648: ConvergenceWarning: Objective did not converge. You might want to increase the number of iterations, check the scale of the features or consider increasing regularisation. Duality gap: 3.879e+08, tolerance: 2.498e+05\n",
            "  coef_, l1_reg, l2_reg, X, y, max_iter, tol, rng, random, positive\n"
          ]
        },
        {
          "output_type": "stream",
          "name": "stdout",
          "text": [
            "['ElasticNet', 874.608207317, 336.6359532978113, 10.100575581467957, 150.535191898658, 0.6855688129172808]\n"
          ]
        },
        {
          "output_type": "stream",
          "name": "stderr",
          "text": [
            "/usr/local/lib/python3.7/dist-packages/sklearn/linear_model/_coordinate_descent.py:648: ConvergenceWarning: Objective did not converge. You might want to increase the number of iterations, check the scale of the features or consider increasing regularisation. Duality gap: 3.872e+08, tolerance: 2.498e+05\n",
            "  coef_, l1_reg, l2_reg, X, y, max_iter, tol, rng, random, positive\n"
          ]
        },
        {
          "output_type": "stream",
          "name": "stdout",
          "text": [
            "['ElasticNet', 868.8895034620009, 549.424810646076, 10.100680462746118, 151.06401467427327, 0.6846233944223361]\n"
          ]
        },
        {
          "output_type": "stream",
          "name": "stderr",
          "text": [
            "/usr/local/lib/python3.7/dist-packages/sklearn/linear_model/_coordinate_descent.py:648: ConvergenceWarning: Objective did not converge. You might want to increase the number of iterations, check the scale of the features or consider increasing regularisation. Duality gap: 3.871e+08, tolerance: 2.497e+05\n",
            "  coef_, l1_reg, l2_reg, X, y, max_iter, tol, rng, random, positive\n"
          ]
        },
        {
          "output_type": "stream",
          "name": "stdout",
          "text": [
            "['ElasticNet', 885.9251757679995, 520.8580371216187, 10.110900452380864, 151.26597782624765, 0.6849012003251599]\n",
            "== DecisionTreeRegressor ==\n",
            "['DecisionTreeRegressor', 282.0183152890004, 76.21493268053855, 8.942909163956081, 152.38735190206478, 0.681705366504384]\n",
            "['DecisionTreeRegressor', 282.55250330499985, 76.50420168067227, 8.897709019755206, 151.23365619871205, 0.6842502713094833]\n",
            "['DecisionTreeRegressor', 280.25798388600015, 72.64871928907475, 8.86873193858772, 150.3895673359219, 0.6858729870014402]\n",
            "['DecisionTreeRegressor', 279.83034738400056, 69.28168677577351, 8.92206087718993, 151.6607636812204, 0.6833775604849908]\n",
            "['DecisionTreeRegressor', 279.6009638730011, 77.13853307597824, 8.883804366797149, 150.9868770225325, 0.6854825890121781]\n"
          ]
        },
        {
          "output_type": "display_data",
          "data": {
            "application/javascript": [
              "\n",
              "    async function download(id, filename, size) {\n",
              "      if (!google.colab.kernel.accessAllowed) {\n",
              "        return;\n",
              "      }\n",
              "      const div = document.createElement('div');\n",
              "      const label = document.createElement('label');\n",
              "      label.textContent = `Downloading \"${filename}\": `;\n",
              "      div.appendChild(label);\n",
              "      const progress = document.createElement('progress');\n",
              "      progress.max = size;\n",
              "      div.appendChild(progress);\n",
              "      document.body.appendChild(div);\n",
              "\n",
              "      const buffers = [];\n",
              "      let downloaded = 0;\n",
              "\n",
              "      const channel = await google.colab.kernel.comms.open(id);\n",
              "      // Send a message to notify the kernel that we're ready.\n",
              "      channel.send({})\n",
              "\n",
              "      for await (const message of channel.messages) {\n",
              "        // Send a message to notify the kernel that we're ready.\n",
              "        channel.send({})\n",
              "        if (message.buffers) {\n",
              "          for (const buffer of message.buffers) {\n",
              "            buffers.push(buffer);\n",
              "            downloaded += buffer.byteLength;\n",
              "            progress.value = downloaded;\n",
              "          }\n",
              "        }\n",
              "      }\n",
              "      const blob = new Blob(buffers, {type: 'application/binary'});\n",
              "      const a = document.createElement('a');\n",
              "      a.href = window.URL.createObjectURL(blob);\n",
              "      a.download = filename;\n",
              "      div.appendChild(a);\n",
              "      a.click();\n",
              "      div.remove();\n",
              "    }\n",
              "  "
            ],
            "text/plain": [
              "<IPython.core.display.Javascript object>"
            ]
          },
          "metadata": {}
        },
        {
          "output_type": "display_data",
          "data": {
            "application/javascript": [
              "download(\"download_4cb3e13e-78c6-462d-8140-679512370844\", \"sem_pca.xlsx\", 7035)"
            ],
            "text/plain": [
              "<IPython.core.display.Javascript object>"
            ]
          },
          "metadata": {}
        }
      ]
    },
    {
      "cell_type": "markdown",
      "metadata": {
        "id": "wbp4vCmcVn_c"
      },
      "source": [
        "### Treinamento com pré-processamento"
      ]
    },
    {
      "cell_type": "code",
      "metadata": {
        "id": "cZUefdz8VgBv",
        "colab": {
          "base_uri": "https://localhost:8080/",
          "height": 297
        },
        "outputId": "70e79486-76b8-4678-fdcf-07b01aa1b000"
      },
      "source": [
        "from sklearn.preprocessing import StandardScaler\n",
        "from sklearn.decomposition import PCA\n",
        "\n",
        "#limita escala dos atributos//colunas\n",
        "scaler = StandardScaler()\n",
        "X = scaler.fit_transform(X)\n",
        "\n",
        "# decompoem informação de 33 atr. para 2 atr/col\n",
        "pca = PCA(n_components=2)\n",
        "X = pca.fit_transform(X)\n",
        "\n",
        "import time\n",
        "from sklearn.model_selection import KFold\n",
        "\n",
        "#https://scikit-learn.org/stable/modules/generated/sklearn.model_selection.KFold.html\n",
        "num_partes = 5\n",
        "kf = KFold(n_splits=num_partes, random_state=42, shuffle=True) # 10-Fold\n",
        "\n",
        "resultados =[]\n",
        "res_nomes = ['Técnica','Tempo(s)','ME','MAE','MSE','R2']\n",
        "\n",
        "for nome, rgr in zip(reg_nomes, regressores):\n",
        "  print('==',nome,'==')\n",
        "  for train_index, test_index in kf.split(X):\n",
        "    etapa = []\n",
        "    etapa.append(nome)\n",
        "\n",
        "   # dataset de treinamento(X_train,y_train)\n",
        "   # dataset de testes(X_test,y_test)\n",
        "    X_train, X_test = X[train_index], X[test_index]\n",
        "    y_train, y_test = y[train_index], y[test_index]\n",
        "\n",
        "    #treinamento\n",
        "    t = time.process_time()  \n",
        "    rgr.fit(X_train,y_train)\n",
        "    etapa.append(time.process_time()-t)\n",
        "    \n",
        "    #validacao\n",
        "    y_prev = rgr.predict(X_test)\n",
        "\n",
        "    #métricas\n",
        "    etapa.append(max_error(y_test,y_prev))\n",
        "    etapa.append(mean_absolute_error(y_test,y_prev))\n",
        "    etapa.append(mean_squared_error(y_test,y_prev))\n",
        "    etapa.append(r2_score(y_test,y_prev))\n",
        "\n",
        "    print(etapa)\n",
        "\n",
        "    resultados.append(etapa)\n",
        "\n",
        "#armazenando resultados\n",
        "res1 = pd.DataFrame(data = resultados, columns =res_nomes )\n",
        "# salva\n",
        "res1.to_excel('com_pca.xlsx',index=True)\n",
        "\n",
        "from google.colab import files\n",
        "files.download('com_pca.xlsx')"
      ],
      "execution_count": null,
      "outputs": [
        {
          "output_type": "stream",
          "name": "stderr",
          "text": [
            "/usr/local/lib/python3.7/dist-packages/sklearn/neural_network/_multilayer_perceptron.py:699: UserWarning: Training interrupted by user.\n",
            "  warnings.warn(\"Training interrupted by user.\")\n"
          ]
        },
        {
          "output_type": "stream",
          "name": "stdout",
          "text": [
            "['MLPRegressor', 3160.652487843, 56.42552628786217, 18.444117786369898, 469.0238568501235, 0.020340108588844275]\n"
          ]
        },
        {
          "output_type": "stream",
          "name": "stderr",
          "text": [
            "/usr/local/lib/python3.7/dist-packages/sklearn/neural_network/_multilayer_perceptron.py:699: UserWarning: Training interrupted by user.\n",
            "  warnings.warn(\"Training interrupted by user.\")\n"
          ]
        },
        {
          "output_type": "stream",
          "name": "stdout",
          "text": [
            "['MLPRegressor', 418.4182368470001, 55.506204959196936, 18.50684664962311, 471.3810358394907, 0.015837890075149463]\n"
          ]
        },
        {
          "output_type": "stream",
          "name": "stderr",
          "text": [
            "/usr/local/lib/python3.7/dist-packages/sklearn/neural_network/_multilayer_perceptron.py:699: UserWarning: Training interrupted by user.\n",
            "  warnings.warn(\"Training interrupted by user.\")\n"
          ]
        },
        {
          "output_type": "stream",
          "name": "stdout",
          "text": [
            "['MLPRegressor', 1.1614132810000228, 76.24255087467843, 20.581363411814117, 617.4307832946024, -0.289661850389322]\n"
          ]
        },
        {
          "output_type": "stream",
          "name": "stderr",
          "text": [
            "/usr/local/lib/python3.7/dist-packages/sklearn/neural_network/_multilayer_perceptron.py:699: UserWarning: Training interrupted by user.\n",
            "  warnings.warn(\"Training interrupted by user.\")\n"
          ]
        },
        {
          "output_type": "stream",
          "name": "stdout",
          "text": [
            "['MLPRegressor', 17.4749463940002, 53.47798645597053, 18.66747507003562, 477.2688652113818, 0.003604961891012337]\n"
          ]
        },
        {
          "output_type": "stream",
          "name": "stderr",
          "text": [
            "/usr/local/lib/python3.7/dist-packages/sklearn/neural_network/_multilayer_perceptron.py:699: UserWarning: Training interrupted by user.\n",
            "  warnings.warn(\"Training interrupted by user.\")\n"
          ]
        },
        {
          "output_type": "stream",
          "name": "stdout",
          "text": [
            "['MLPRegressor', 2.506541630999891, 65.97771226987989, 19.48808884910382, 534.2010234130208, -0.11278229038298737]\n"
          ]
        },
        {
          "output_type": "display_data",
          "data": {
            "application/javascript": [
              "\n",
              "    async function download(id, filename, size) {\n",
              "      if (!google.colab.kernel.accessAllowed) {\n",
              "        return;\n",
              "      }\n",
              "      const div = document.createElement('div');\n",
              "      const label = document.createElement('label');\n",
              "      label.textContent = `Downloading \"${filename}\": `;\n",
              "      div.appendChild(label);\n",
              "      const progress = document.createElement('progress');\n",
              "      progress.max = size;\n",
              "      div.appendChild(progress);\n",
              "      document.body.appendChild(div);\n",
              "\n",
              "      const buffers = [];\n",
              "      let downloaded = 0;\n",
              "\n",
              "      const channel = await google.colab.kernel.comms.open(id);\n",
              "      // Send a message to notify the kernel that we're ready.\n",
              "      channel.send({})\n",
              "\n",
              "      for await (const message of channel.messages) {\n",
              "        // Send a message to notify the kernel that we're ready.\n",
              "        channel.send({})\n",
              "        if (message.buffers) {\n",
              "          for (const buffer of message.buffers) {\n",
              "            buffers.push(buffer);\n",
              "            downloaded += buffer.byteLength;\n",
              "            progress.value = downloaded;\n",
              "          }\n",
              "        }\n",
              "      }\n",
              "      const blob = new Blob(buffers, {type: 'application/binary'});\n",
              "      const a = document.createElement('a');\n",
              "      a.href = window.URL.createObjectURL(blob);\n",
              "      a.download = filename;\n",
              "      div.appendChild(a);\n",
              "      a.click();\n",
              "      div.remove();\n",
              "    }\n",
              "  "
            ],
            "text/plain": [
              "<IPython.core.display.Javascript object>"
            ]
          },
          "metadata": {}
        },
        {
          "output_type": "display_data",
          "data": {
            "application/javascript": [
              "download(\"download_0f1086a4-962e-45d8-beef-8c0a781f60e6\", \"com_pca.xlsx\", 5440)"
            ],
            "text/plain": [
              "<IPython.core.display.Javascript object>"
            ]
          },
          "metadata": {}
        }
      ]
    },
    {
      "cell_type": "markdown",
      "metadata": {
        "id": "nnJc3-Am-Hms"
      },
      "source": [
        "# Treinamento Incremental"
      ]
    },
    {
      "cell_type": "markdown",
      "metadata": {
        "id": "hp5g4AaP-7ag"
      },
      "source": [
        "https://scikit-learn.org/0.15/modules/scaling_strategies.html"
      ]
    },
    {
      "cell_type": "code",
      "metadata": {
        "colab": {
          "base_uri": "https://localhost:8080/"
        },
        "id": "1fXRGru4-KbU",
        "outputId": "a797b1cb-71ed-40b1-e2e0-61e3b911b58d"
      },
      "source": [
        "import time\n",
        "from sklearn.model_selection import KFold\n",
        "from sklearn.linear_model import SGDRegressor, PassiveAggressiveRegressor\n",
        "\n",
        "from sklearn.metrics import max_error\n",
        "from sklearn.metrics import mean_absolute_error\n",
        "from sklearn.metrics import mean_squared_error\n",
        "from sklearn.metrics import r2_score\n",
        "\n",
        "resultados = []\n",
        "\n",
        "incrementais = (SGDRegressor(), PassiveAggressiveRegressor())\n",
        "\n",
        "X = ds[ds.columns[:-1]].values\n",
        "y = ds[ds.columns[-1]].values\n",
        "\n",
        "kf = KFold(n_splits=3, random_state=42, shuffle=True)\n",
        "\n",
        "for inc in incrementais:\n",
        "  print('==',inc.__class__,'==')\n",
        "  for train_index, test_index in kf.split(X):\n",
        "    etapa = []\n",
        "    etapa.append(inc.__class__)\n",
        "\n",
        "    train_size = len(train_index)\n",
        "    train_step = int(train_size/100)\n",
        "    \n",
        "    t = time.process_time()\n",
        "\n",
        "    for step in range(1, train_size, train_step):\n",
        "      train_baund = train_index[step:step+train_step]\n",
        "      X_train = X[train_baund]\n",
        "      y_train = y[train_baund]\n",
        "\n",
        "      inc.partial_fit(X_train,y_train)\n",
        "\n",
        "\n",
        "    etapa.append(time.process_time()-t)\n",
        "    \n",
        "    X_test = X[test_index]\n",
        "    y_test = y[test_index]\n",
        "\n",
        "    #validacao\n",
        "    y_prev = inc.predict(X_test)\n",
        "\n",
        "    #métricas\n",
        "    etapa.append(max_error(y_test,y_prev))\n",
        "    etapa.append(mean_absolute_error(y_test,y_prev))\n",
        "    etapa.append(mean_squared_error(y_test,y_prev))\n",
        "    etapa.append(r2_score(y_test,y_prev))\n",
        "\n",
        "    print(etapa)\n",
        "\n",
        "    resultados.append(etapa)\n",
        "    #armazenando resultados\n",
        "    res1 = pd.DataFrame(data = resultados)\n",
        "    # salva\n",
        "    res1.to_excel('incremental.xlsx',index=True)\n",
        "\n",
        "#armazenando resultados\n",
        "res1 = pd.DataFrame(data = resultados )"
      ],
      "execution_count": null,
      "outputs": [
        {
          "output_type": "stream",
          "name": "stdout",
          "text": [
            "== <class 'sklearn.linear_model._stochastic_gradient.SGDRegressor'> ==\n",
            "[<class 'sklearn.linear_model._stochastic_gradient.SGDRegressor'>, 1.6484487250000086, 1.780015846100149e+17, 1.0071805517214408e+17, 1.1437124231022273e+34, -2.3883172195373737e+31]\n",
            "[<class 'sklearn.linear_model._stochastic_gradient.SGDRegressor'>, 1.5247446579999746, 8.951021291035618e+16, 5.459117901646967e+16, 3.243375892596383e+33, -6.773115668905087e+30]\n",
            "[<class 'sklearn.linear_model._stochastic_gradient.SGDRegressor'>, 1.5487041450000163, 1.0101040104997694e+17, 6.072212469075741e+16, 4.0386934828513994e+33, -8.421224750065319e+30]\n",
            "== <class 'sklearn.linear_model._passive_aggressive.PassiveAggressiveRegressor'> ==\n",
            "[<class 'sklearn.linear_model._passive_aggressive.PassiveAggressiveRegressor'>, 1.4151834410000106, 112.14404123189856, 25.063453767854575, 991.0661202061708, -1.069558949240275]\n",
            "[<class 'sklearn.linear_model._passive_aggressive.PassiveAggressiveRegressor'>, 1.4927175680000175, 171.18285316890788, 21.582441282527213, 777.0022069042034, -0.6226074302302909]\n",
            "[<class 'sklearn.linear_model._passive_aggressive.PassiveAggressiveRegressor'>, 1.440111079000019, 188.5510647518871, 16.48657678072083, 488.4859826800683, -0.01855965669894033]\n"
          ]
        }
      ]
    }
  ]
}